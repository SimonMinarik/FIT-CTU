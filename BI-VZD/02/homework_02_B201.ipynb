{
 "cells": [
  {
   "cell_type": "markdown",
   "metadata": {},
   "source": [
    "# Úkol č. 2 - předzpracování dat a binární klasifikace (do 9. listopadu 23:59)\n",
    "\n",
    "  * V rámci tohoto úkolu se musíte vypořádat s příznaky, které jsou různých typů.\n",
    "  * Před tím, než na nich postavíte predikční model, je třeba je nějakým způsobem převést do číselné reprezentace.\n",
    "    \n",
    "> **Úkoly jsou zadány tak, aby Vám daly prostor pro invenci. Vymyslet _jak přesně_ budete úkol řešit, je důležitou součástí zadání a originalita či nápaditost bude také hodnocena!**\n",
    "\n",
    "## Zdroj dat\n",
    "\n",
    "Budeme se zabývat predikcí přežití pasažérů Titaniku.\n",
    "K dispozici máte trénovací data v souboru **data.csv** a data na vyhodnocení v souboru **evaluation.csv**.\n",
    "\n",
    "#### Seznam příznaků:\n",
    "* survived - zda přežil, 0 = Ne, 1 = Ano, **vysvětlovaná proměnná**, kterou chcete predikovat\n",
    "* pclass - Třída lodního lístku, 1 = první, 2 = druhá, 3 = třetí\n",
    "* name - jméno\n",
    "* sex - pohlaví\n",
    "* age - věk v letech\n",
    "* sibsp\t- počet sourozenců / manželů, manželek na palubě\n",
    "* parch - počet rodičů / dětí na palubě\n",
    "* ticket - číslo lodního lístku\n",
    "* fare - cena lodního lístku\n",
    "* cabin\t- číslo kajuty\n",
    "* embarked\t- místo nalodění, C = Cherbourg, Q = Queenstown, S = Southampton\n",
    "* home.dest - Bydliště/Cíl\n",
    "\n",
    "## Pokyny k vypracování\n",
    "\n",
    "**Základní body zadání**, za jejichž (poctivé) vypracování získáte **8 bodů**:\n",
    "  * V Jupyter notebooku načtěte data ze souboru **data.csv**. Vhodným způsobem si je rozdělte na podmnožiny vhodné k trénování modelu.\n",
    "  * Projděte si jednotlivé příznaky a transformujte je do vhodné podoby pro použití ve vybraném klasifikačním modelu.\n",
    "  * Podle potřeby si můžete vytvářet nové příznaky (na základě existujících), například tedy můžete vytvořit příznak měřící délku jména. Některé příznaky můžete také úplně zahodit.\n",
    "  * Nějakým způsobem se vypořádejte s chybějícími hodnotami.\n",
    "  * Následně si vyberte vhodný klasifikační model z přednášek. Najděte vhodné hyperparametry a určete jeho přesnost (accuracy) na trénovací množině. Také určete jeho přesnost na testovací množině.\n",
    "  * Načtěte vyhodnocovací data ze souboru **evaluation.csv**. Napočítejte predikce pro tyto data (vysvětlovaná proměnná v nich již není). Vytvořte **results.csv** soubor, ve kterém tyto predikce uložíte do dvou sloupců: ID, predikce přežití. Tento soubor nahrajte do repozitáře.\n",
    "  * Ukázka prvních řádků souboru *results.csv*:\n",
    "  \n",
    "```\n",
    "ID,survived\n",
    "1000,0\n",
    "1001,1\n",
    "...\n",
    "```\n",
    "\n",
    "**Další body zadání** za případné další body  (můžete si vybrat, maximum bodů za úkol je každopádně 12 bodů):\n",
    "  * (až +4 body) Aplikujte všechny klasifikační modely z přednášek a určete (na základě přesnosti na validační množině), který je nejlepší. Přesnost tohoto nejlepšího modelu odhadněte pomocí křížové validace. K predikcím na vyhodnocovacích datech využijte tento model.\n",
    "  * (až +4 body) Zkuste použít nějaké (alespoň dvě) netriviální metody doplňování chybějících hodnot u věku. Zaměřte na vliv těchto metod na přesnost predikce výsledného modelu. K predikcím na vyhodnocovacích datech využijte ten přístup, který Vám vyjde jako nejlepší.\n",
    "\n",
    "## Poznámky k odevzdání\n",
    "\n",
    "  * Řiďte se pokyny ze stránky https://courses.fit.cvut.cz/BI-VZD/homeworks/index.html.\n",
    "  * Odevzdejte nejen Jupyter Notebook, ale i _csv_ soubor s predikcemi pro vyhodnocovací data (`results.csv`).\n",
    "  * Opravující Vám může umožnit úkol dodělat či opravit a získat tak další body. První verze je ale důležitá a bude-li odbytá, budete za to penalizováni**"
   ]
  },
  {
   "cell_type": "code",
   "execution_count": 1,
   "metadata": {},
   "outputs": [],
   "source": [
    "import numpy as np\n",
    "import pandas as pd"
   ]
  },
  {
   "cell_type": "markdown",
   "metadata": {},
   "source": [
    "# Import dát"
   ]
  },
  {
   "cell_type": "code",
   "execution_count": 2,
   "metadata": {},
   "outputs": [],
   "source": [
    "df = pd.read_csv('data.csv')"
   ]
  },
  {
   "cell_type": "markdown",
   "metadata": {},
   "source": [
    "## Pomocné premenné"
   ]
  },
  {
   "cell_type": "code",
   "execution_count": 3,
   "metadata": {},
   "outputs": [],
   "source": [
    "median_train = False\n",
    "random_train = False\n",
    "dtr_train = False"
   ]
  },
  {
   "cell_type": "markdown",
   "metadata": {},
   "source": [
    "# Upratanie dát\n",
    "Rozhodol som sa atribút **sex** zakódovať na 0/1, atribút **embarked** som sa rozhodol one-hot enkódovať, pretože som ho tam chcel nechať, no zároveň neviem určiť, čo je \"lepšie\", resp. nie je tam jasná spojitosť<br>\n",
    "<br>\n",
    "Atribúty **home.dest**, **cabin**, **ticket** a **name** som sa rozhodol vymazať, pretože neobsahovali dôležité údaje - na **home.dest** nezáleží, naloďoval sa vždy len na jednej z troch staníc (a už sa žiaľ nevylodil), **cabin** obsahuje málo dát na to, aby to bolo smerodatné a **ticket** aj v prípade, že by jeho označenie bolo špeciálne pre rôzne cenové kategórie, cenu lístka máme aj bez toho zadanú.<br>\n",
    "<br>\n",
    "Pri **name** som nejaký čas strávil a zamýšľal sa, či meno, resp. titul pred menom nemôže hrať rolu - u človeka so šlachtickým titulom sa predpokladá, že má viac peňazí.. avšak po zobrazení jednotlivých titulov príkazom:<br>\n",
    "`df['name'].apply(lambda x: x.split(',')[1].split('.')[0].strip()).unique()`<br>\n",
    "som dostal až 12 rozličných titulov a pomenovaní, ktoré som nebol schopný spojito zoradiť, pretože niektoré tituly sú anglické, niektoré sú len pomenovania osobyb (Mr./Ms.) a to zoradiť nejde - rozhodol som sa to teda tiež vyhodiť, one-hot zakódovanie výsledkom nijako nepomohlo, len to pridalo 12 nových stĺpcov a predĺžilo čas behu príkazov.."
   ]
  },
  {
   "cell_type": "code",
   "execution_count": 4,
   "metadata": {},
   "outputs": [],
   "source": [
    "def clean_up_data(df):\n",
    "    df['sex'] = df['sex'].astype('category').cat.codes\n",
    "    df = pd.concat([df, pd.get_dummies(df['embarked'])], axis=1)\n",
    "    df = df.drop(columns=['embarked', 'home.dest', 'cabin', 'ticket', 'name'])\n",
    "    df = df.set_index('ID')\n",
    "    df = df.fillna(-1)\n",
    "    return df\n",
    "df = clean_up_data(df)"
   ]
  },
  {
   "cell_type": "markdown",
   "metadata": {},
   "source": [
    "# Klasifikačné modely\n",
    "Pre trénovanie a testovanie som použil 4 rôzne modely klasifikácie:\n",
    " * DecisionTreeClassifier\n",
    " * RandomForestClassifier\n",
    " * AdaBoostClassifier\n",
    " * KNeighborsClassifier"
   ]
  },
  {
   "cell_type": "code",
   "execution_count": 5,
   "metadata": {},
   "outputs": [],
   "source": [
    "from sklearn.model_selection import cross_val_score\n",
    "from sklearn.tree import DecisionTreeClassifier\n",
    "from sklearn.ensemble import RandomForestClassifier, AdaBoostClassifier\n",
    "from sklearn.neighbors import KNeighborsClassifier\n",
    "from sklearn.model_selection import train_test_split\n",
    "\n",
    "knn = KNeighborsClassifier()\n",
    "rf = RandomForestClassifier(n_estimators=100)\n",
    "ada = AdaBoostClassifier()\n",
    "dt = DecisionTreeClassifier()"
   ]
  },
  {
   "cell_type": "markdown",
   "metadata": {},
   "source": [
    "# Doplnenie chýbajúceho veku\n",
    "Po doplnení chýbajúceho veku pasažierom datasety priamo cross validujem s klasifikačnými modelmi (vypísané vyššie), nech si viem vybrať, ktorá kombinácia je najlepšia"
   ]
  },
  {
   "cell_type": "markdown",
   "metadata": {},
   "source": [
    "## Doplnenie chýbajúceho veku mediánom\n",
    "Prvú možnosť, ktorú som si vybral na doplnenie chýbajúcich údajov o veku pasažierov, je vyplnenie mediánom pasažierov lode (toto sme robili v 3. cvičení), nič som od toho však neočakával.."
   ]
  },
  {
   "cell_type": "code",
   "execution_count": 6,
   "metadata": {},
   "outputs": [
    {
     "data": {
      "text/html": [
       "<div>\n",
       "<style scoped>\n",
       "    .dataframe tbody tr th:only-of-type {\n",
       "        vertical-align: middle;\n",
       "    }\n",
       "\n",
       "    .dataframe tbody tr th {\n",
       "        vertical-align: top;\n",
       "    }\n",
       "\n",
       "    .dataframe thead th {\n",
       "        text-align: right;\n",
       "    }\n",
       "</style>\n",
       "<table border=\"1\" class=\"dataframe\">\n",
       "  <thead>\n",
       "    <tr style=\"text-align: right;\">\n",
       "      <th></th>\n",
       "      <th>survived</th>\n",
       "      <th>pclass</th>\n",
       "      <th>sex</th>\n",
       "      <th>age</th>\n",
       "      <th>sibsp</th>\n",
       "      <th>parch</th>\n",
       "      <th>fare</th>\n",
       "      <th>C</th>\n",
       "      <th>Q</th>\n",
       "      <th>S</th>\n",
       "    </tr>\n",
       "    <tr>\n",
       "      <th>ID</th>\n",
       "      <th></th>\n",
       "      <th></th>\n",
       "      <th></th>\n",
       "      <th></th>\n",
       "      <th></th>\n",
       "      <th></th>\n",
       "      <th></th>\n",
       "      <th></th>\n",
       "      <th></th>\n",
       "      <th></th>\n",
       "    </tr>\n",
       "  </thead>\n",
       "  <tbody>\n",
       "    <tr>\n",
       "      <td>995</td>\n",
       "      <td>0</td>\n",
       "      <td>3</td>\n",
       "      <td>1</td>\n",
       "      <td>27.0</td>\n",
       "      <td>0</td>\n",
       "      <td>0</td>\n",
       "      <td>7.8958</td>\n",
       "      <td>0</td>\n",
       "      <td>0</td>\n",
       "      <td>1</td>\n",
       "    </tr>\n",
       "    <tr>\n",
       "      <td>996</td>\n",
       "      <td>1</td>\n",
       "      <td>3</td>\n",
       "      <td>1</td>\n",
       "      <td>27.0</td>\n",
       "      <td>0</td>\n",
       "      <td>0</td>\n",
       "      <td>7.0500</td>\n",
       "      <td>0</td>\n",
       "      <td>0</td>\n",
       "      <td>1</td>\n",
       "    </tr>\n",
       "    <tr>\n",
       "      <td>997</td>\n",
       "      <td>0</td>\n",
       "      <td>3</td>\n",
       "      <td>0</td>\n",
       "      <td>28.0</td>\n",
       "      <td>1</td>\n",
       "      <td>1</td>\n",
       "      <td>14.4000</td>\n",
       "      <td>0</td>\n",
       "      <td>0</td>\n",
       "      <td>1</td>\n",
       "    </tr>\n",
       "    <tr>\n",
       "      <td>998</td>\n",
       "      <td>0</td>\n",
       "      <td>3</td>\n",
       "      <td>1</td>\n",
       "      <td>40.0</td>\n",
       "      <td>0</td>\n",
       "      <td>0</td>\n",
       "      <td>7.8958</td>\n",
       "      <td>0</td>\n",
       "      <td>0</td>\n",
       "      <td>1</td>\n",
       "    </tr>\n",
       "    <tr>\n",
       "      <td>999</td>\n",
       "      <td>0</td>\n",
       "      <td>3</td>\n",
       "      <td>1</td>\n",
       "      <td>27.0</td>\n",
       "      <td>0</td>\n",
       "      <td>0</td>\n",
       "      <td>7.8542</td>\n",
       "      <td>0</td>\n",
       "      <td>0</td>\n",
       "      <td>1</td>\n",
       "    </tr>\n",
       "  </tbody>\n",
       "</table>\n",
       "</div>"
      ],
      "text/plain": [
       "     survived  pclass  sex   age  sibsp  parch     fare  C  Q  S\n",
       "ID                                                              \n",
       "995         0       3    1  27.0      0      0   7.8958  0  0  1\n",
       "996         1       3    1  27.0      0      0   7.0500  0  0  1\n",
       "997         0       3    0  28.0      1      1  14.4000  0  0  1\n",
       "998         0       3    1  40.0      0      0   7.8958  0  0  1\n",
       "999         0       3    1  27.0      0      0   7.8542  0  0  1"
      ]
     },
     "execution_count": 6,
     "metadata": {},
     "output_type": "execute_result"
    }
   ],
   "source": [
    "df_median = df.copy()\n",
    "def median_age(df_median, train=None):\n",
    "    global median_train\n",
    "    if train:\n",
    "        median = df_median.loc[df['age'] != -1]['age'].median()\n",
    "        df_median['age'] = df_median['age'].apply(lambda x: median if x == -1 else x)\n",
    "        median_train = median\n",
    "        return df_median\n",
    "    elif median_train is False:\n",
    "        raise ValueError(\"Can't complete test dataset without train input\")\n",
    "    else:\n",
    "        df_median['age'] = df_median['age'].apply(lambda x: median_train if x == -1 else x)\n",
    "        return df_median\n",
    "df_median = median_age(df_median, train=True)\n",
    "df_median.tail()"
   ]
  },
  {
   "cell_type": "code",
   "execution_count": 7,
   "metadata": {},
   "outputs": [
    {
     "name": "stdout",
     "output_type": "stream",
     "text": [
      "kNN accuracy: 0.6889999999999998\n",
      "Random Forest accuracy: 0.784\n",
      "AdaBoost accuracy: 0.7769999999999999\n",
      "Decision Tree accuracy: 0.756\n"
     ]
    }
   ],
   "source": [
    "Xdata = df_median.drop(columns='survived')\n",
    "ydata = df_median.survived\n",
    "\n",
    "print('kNN accuracy:',cross_val_score(knn, Xdata, ydata, cv=10).mean())\n",
    "print('Random Forest accuracy:',cross_val_score(rf, Xdata, ydata, cv=10).mean())\n",
    "print('AdaBoost accuracy:',cross_val_score(ada, Xdata, ydata, cv=10).mean())\n",
    "print('Decision Tree accuracy:',cross_val_score(dt, Xdata, ydata, cv=10).mean())"
   ]
  },
  {
   "cell_type": "markdown",
   "metadata": {},
   "source": [
    "## Doplnenie chýbajúceho veku náhodnou distribúciou\n",
    "Ako druhá možnosť doplnenia chýbajúceho veku mi napadlo, že pasažierom priradím náhodne vek z množiny pridelených vekov ostatných pasažierov. Ide síce čisto o náhodu, avšak doplnené údaje sa aspoň odvíjajú od reálnych dát ostatných pasažierov."
   ]
  },
  {
   "cell_type": "code",
   "execution_count": 8,
   "metadata": {
    "scrolled": true
   },
   "outputs": [
    {
     "data": {
      "text/html": [
       "<div>\n",
       "<style scoped>\n",
       "    .dataframe tbody tr th:only-of-type {\n",
       "        vertical-align: middle;\n",
       "    }\n",
       "\n",
       "    .dataframe tbody tr th {\n",
       "        vertical-align: top;\n",
       "    }\n",
       "\n",
       "    .dataframe thead th {\n",
       "        text-align: right;\n",
       "    }\n",
       "</style>\n",
       "<table border=\"1\" class=\"dataframe\">\n",
       "  <thead>\n",
       "    <tr style=\"text-align: right;\">\n",
       "      <th></th>\n",
       "      <th>survived</th>\n",
       "      <th>pclass</th>\n",
       "      <th>sex</th>\n",
       "      <th>age</th>\n",
       "      <th>sibsp</th>\n",
       "      <th>parch</th>\n",
       "      <th>fare</th>\n",
       "      <th>C</th>\n",
       "      <th>Q</th>\n",
       "      <th>S</th>\n",
       "    </tr>\n",
       "    <tr>\n",
       "      <th>ID</th>\n",
       "      <th></th>\n",
       "      <th></th>\n",
       "      <th></th>\n",
       "      <th></th>\n",
       "      <th></th>\n",
       "      <th></th>\n",
       "      <th></th>\n",
       "      <th></th>\n",
       "      <th></th>\n",
       "      <th></th>\n",
       "    </tr>\n",
       "  </thead>\n",
       "  <tbody>\n",
       "    <tr>\n",
       "      <td>995</td>\n",
       "      <td>0</td>\n",
       "      <td>3</td>\n",
       "      <td>1</td>\n",
       "      <td>30.0</td>\n",
       "      <td>0</td>\n",
       "      <td>0</td>\n",
       "      <td>7.8958</td>\n",
       "      <td>0</td>\n",
       "      <td>0</td>\n",
       "      <td>1</td>\n",
       "    </tr>\n",
       "    <tr>\n",
       "      <td>996</td>\n",
       "      <td>1</td>\n",
       "      <td>3</td>\n",
       "      <td>1</td>\n",
       "      <td>25.0</td>\n",
       "      <td>0</td>\n",
       "      <td>0</td>\n",
       "      <td>7.0500</td>\n",
       "      <td>0</td>\n",
       "      <td>0</td>\n",
       "      <td>1</td>\n",
       "    </tr>\n",
       "    <tr>\n",
       "      <td>997</td>\n",
       "      <td>0</td>\n",
       "      <td>3</td>\n",
       "      <td>0</td>\n",
       "      <td>28.0</td>\n",
       "      <td>1</td>\n",
       "      <td>1</td>\n",
       "      <td>14.4000</td>\n",
       "      <td>0</td>\n",
       "      <td>0</td>\n",
       "      <td>1</td>\n",
       "    </tr>\n",
       "    <tr>\n",
       "      <td>998</td>\n",
       "      <td>0</td>\n",
       "      <td>3</td>\n",
       "      <td>1</td>\n",
       "      <td>40.0</td>\n",
       "      <td>0</td>\n",
       "      <td>0</td>\n",
       "      <td>7.8958</td>\n",
       "      <td>0</td>\n",
       "      <td>0</td>\n",
       "      <td>1</td>\n",
       "    </tr>\n",
       "    <tr>\n",
       "      <td>999</td>\n",
       "      <td>0</td>\n",
       "      <td>3</td>\n",
       "      <td>1</td>\n",
       "      <td>27.0</td>\n",
       "      <td>0</td>\n",
       "      <td>0</td>\n",
       "      <td>7.8542</td>\n",
       "      <td>0</td>\n",
       "      <td>0</td>\n",
       "      <td>1</td>\n",
       "    </tr>\n",
       "  </tbody>\n",
       "</table>\n",
       "</div>"
      ],
      "text/plain": [
       "     survived  pclass  sex   age  sibsp  parch     fare  C  Q  S\n",
       "ID                                                              \n",
       "995         0       3    1  30.0      0      0   7.8958  0  0  1\n",
       "996         1       3    1  25.0      0      0   7.0500  0  0  1\n",
       "997         0       3    0  28.0      1      1  14.4000  0  0  1\n",
       "998         0       3    1  40.0      0      0   7.8958  0  0  1\n",
       "999         0       3    1  27.0      0      0   7.8542  0  0  1"
      ]
     },
     "execution_count": 8,
     "metadata": {},
     "output_type": "execute_result"
    }
   ],
   "source": [
    "df_random = df.copy()\n",
    "def random_age(df_random, train=None):\n",
    "    global random_train\n",
    "    if train:\n",
    "        ages = df_random.loc[df_random['age'] != -1]['age'].to_numpy()\n",
    "        df_random['age'] = df_random['age'].apply(lambda x: np.random.choice(ages, 1)[0] if x == -1 else x)\n",
    "        random_train = ages\n",
    "        return df_random\n",
    "    elif random_train is False:\n",
    "        raise ValueError(\"Can't complete test dataset without train input\")\n",
    "    else:\n",
    "        df_random['age'] = df_random['age'].apply(lambda x: np.random.choice(random_train, 1)[0] if x == -1 else x)\n",
    "        return df_random\n",
    "df_random = random_age(df_random, train=True)\n",
    "df_random.tail()"
   ]
  },
  {
   "cell_type": "code",
   "execution_count": 9,
   "metadata": {},
   "outputs": [
    {
     "name": "stdout",
     "output_type": "stream",
     "text": [
      "kNN accuracy: 0.66\n",
      "Random Forest accuracy: 0.774\n",
      "AdaBoost accuracy: 0.774\n",
      "Decision Tree accuracy: 0.7340000000000001\n"
     ]
    }
   ],
   "source": [
    "Xdata2 = df_random.drop(columns='survived')\n",
    "ydata2 = df_random.survived\n",
    "\n",
    "print('kNN accuracy:',cross_val_score(knn, Xdata2, ydata2, cv=10).mean())\n",
    "print('Random Forest accuracy:',cross_val_score(rf, Xdata2, ydata2, cv=10).mean())\n",
    "print('AdaBoost accuracy:',cross_val_score(ada, Xdata2, ydata2, cv=10).mean())\n",
    "print('Decision Tree accuracy:',cross_val_score(dt, Xdata2, ydata2, cv=10).mean())"
   ]
  },
  {
   "cell_type": "markdown",
   "metadata": {},
   "source": [
    "## Doplnenie chýbajúceho veku regresným stromom\n",
    "Ako poslednú možnosť doplnenia chýbajúceho veku pasažierov som si vybral predikovanie veku za pomoci regresného stromu (DecisionTreeRegressor), látky preberanej na 3. cvičení. Strom sa učí na dátach, ktoré sú už známe a predikuje vek ostatným pasažierom"
   ]
  },
  {
   "cell_type": "code",
   "execution_count": 10,
   "metadata": {},
   "outputs": [
    {
     "data": {
      "text/html": [
       "<div>\n",
       "<style scoped>\n",
       "    .dataframe tbody tr th:only-of-type {\n",
       "        vertical-align: middle;\n",
       "    }\n",
       "\n",
       "    .dataframe tbody tr th {\n",
       "        vertical-align: top;\n",
       "    }\n",
       "\n",
       "    .dataframe thead th {\n",
       "        text-align: right;\n",
       "    }\n",
       "</style>\n",
       "<table border=\"1\" class=\"dataframe\">\n",
       "  <thead>\n",
       "    <tr style=\"text-align: right;\">\n",
       "      <th></th>\n",
       "      <th>survived</th>\n",
       "      <th>pclass</th>\n",
       "      <th>sex</th>\n",
       "      <th>age</th>\n",
       "      <th>sibsp</th>\n",
       "      <th>parch</th>\n",
       "      <th>fare</th>\n",
       "      <th>C</th>\n",
       "      <th>Q</th>\n",
       "      <th>S</th>\n",
       "    </tr>\n",
       "    <tr>\n",
       "      <th>ID</th>\n",
       "      <th></th>\n",
       "      <th></th>\n",
       "      <th></th>\n",
       "      <th></th>\n",
       "      <th></th>\n",
       "      <th></th>\n",
       "      <th></th>\n",
       "      <th></th>\n",
       "      <th></th>\n",
       "      <th></th>\n",
       "    </tr>\n",
       "  </thead>\n",
       "  <tbody>\n",
       "    <tr>\n",
       "      <td>995</td>\n",
       "      <td>0</td>\n",
       "      <td>3</td>\n",
       "      <td>1</td>\n",
       "      <td>27.833333</td>\n",
       "      <td>0</td>\n",
       "      <td>0</td>\n",
       "      <td>7.8958</td>\n",
       "      <td>0</td>\n",
       "      <td>0</td>\n",
       "      <td>1</td>\n",
       "    </tr>\n",
       "    <tr>\n",
       "      <td>996</td>\n",
       "      <td>1</td>\n",
       "      <td>3</td>\n",
       "      <td>1</td>\n",
       "      <td>28.000000</td>\n",
       "      <td>0</td>\n",
       "      <td>0</td>\n",
       "      <td>7.0500</td>\n",
       "      <td>0</td>\n",
       "      <td>0</td>\n",
       "      <td>1</td>\n",
       "    </tr>\n",
       "    <tr>\n",
       "      <td>997</td>\n",
       "      <td>0</td>\n",
       "      <td>3</td>\n",
       "      <td>0</td>\n",
       "      <td>28.000000</td>\n",
       "      <td>1</td>\n",
       "      <td>1</td>\n",
       "      <td>14.4000</td>\n",
       "      <td>0</td>\n",
       "      <td>0</td>\n",
       "      <td>1</td>\n",
       "    </tr>\n",
       "    <tr>\n",
       "      <td>998</td>\n",
       "      <td>0</td>\n",
       "      <td>3</td>\n",
       "      <td>1</td>\n",
       "      <td>40.000000</td>\n",
       "      <td>0</td>\n",
       "      <td>0</td>\n",
       "      <td>7.8958</td>\n",
       "      <td>0</td>\n",
       "      <td>0</td>\n",
       "      <td>1</td>\n",
       "    </tr>\n",
       "    <tr>\n",
       "      <td>999</td>\n",
       "      <td>0</td>\n",
       "      <td>3</td>\n",
       "      <td>1</td>\n",
       "      <td>27.000000</td>\n",
       "      <td>0</td>\n",
       "      <td>0</td>\n",
       "      <td>7.8542</td>\n",
       "      <td>0</td>\n",
       "      <td>0</td>\n",
       "      <td>1</td>\n",
       "    </tr>\n",
       "  </tbody>\n",
       "</table>\n",
       "</div>"
      ],
      "text/plain": [
       "     survived  pclass  sex        age  sibsp  parch     fare  C  Q  S\n",
       "ID                                                                   \n",
       "995         0       3    1  27.833333      0      0   7.8958  0  0  1\n",
       "996         1       3    1  28.000000      0      0   7.0500  0  0  1\n",
       "997         0       3    0  28.000000      1      1  14.4000  0  0  1\n",
       "998         0       3    1  40.000000      0      0   7.8958  0  0  1\n",
       "999         0       3    1  27.000000      0      0   7.8542  0  0  1"
      ]
     },
     "execution_count": 10,
     "metadata": {},
     "output_type": "execute_result"
    }
   ],
   "source": [
    "df_dtr = df.copy()\n",
    "def dtr_age(df_dtr, train=None):\n",
    "    global dtr_train\n",
    "    if train:\n",
    "        dtrXtrain = df_dtr.loc[df_dtr['age'] != -1].drop(columns=['age', 'survived'])\n",
    "        dtrytrain = df_dtr.loc[df_dtr['age'] != -1]['age']\n",
    "\n",
    "        dtrTest = df_dtr.loc[df_dtr['age'] == -1].drop(columns=['age', 'survived'])\n",
    "\n",
    "        from sklearn.tree import DecisionTreeRegressor\n",
    "        dtRegressor = DecisionTreeRegressor()\n",
    "        dtRegressor.fit(dtrXtrain,dtrytrain)\n",
    "        predictions = dtRegressor.predict(dtrTest)\n",
    "        df_dtr.loc[df_dtr['age'] == -1]['age']\n",
    "        i = 0\n",
    "        for index, row in df_dtr.iterrows():\n",
    "            if df_dtr.loc[index, 'age'] == -1:\n",
    "                df_dtr.loc[index, 'age'] = predictions[i]\n",
    "                i += 1\n",
    "        dtr_train = dtRegressor\n",
    "        return df_dtr\n",
    "    elif dtr_train is False:\n",
    "        raise ValueError(\"Can't complete test dataset without train input\")\n",
    "    else:\n",
    "        dtrTest = df_dtr.loc[df_dtr['age'] == -1].drop(columns='age')\n",
    "        predictions = dtr_train.predict(dtrTest)\n",
    "        df_dtr.loc[df_dtr['age'] == -1]['age']\n",
    "        i = 0\n",
    "        for index, row in df_dtr.iterrows():\n",
    "            if df_dtr.loc[index, 'age'] == -1:\n",
    "                df_dtr.loc[index, 'age'] = predictions[i]\n",
    "                i += 1\n",
    "        return df_dtr\n",
    "df_dtr = dtr_age(df_dtr, train=True)\n",
    "df_dtr.tail()"
   ]
  },
  {
   "cell_type": "code",
   "execution_count": 11,
   "metadata": {},
   "outputs": [
    {
     "name": "stdout",
     "output_type": "stream",
     "text": [
      "kNN accuracy: 0.6759999999999999\n",
      "Random Forest accuracy: 0.791\n",
      "AdaBoost accuracy: 0.7770000000000001\n",
      "Decision Tree accuracy: 0.76\n"
     ]
    }
   ],
   "source": [
    "Xdata3 = df_dtr.drop(columns='survived')\n",
    "ydata3 = df_dtr.survived\n",
    "\n",
    "print('kNN accuracy:',cross_val_score(knn, Xdata3, ydata3, cv=10).mean())\n",
    "print('Random Forest accuracy:',cross_val_score(rf, Xdata3, ydata3, cv=10).mean())\n",
    "print('AdaBoost accuracy:',cross_val_score(ada, Xdata3, ydata3, cv=10).mean())\n",
    "print('Decision Tree accuracy:',cross_val_score(dt, Xdata3, ydata3, cv=10).mean())"
   ]
  },
  {
   "cell_type": "markdown",
   "metadata": {},
   "source": [
    "# Ladenie hyperparametrov\n",
    "Z predošlých testov mi vyšlo, že najlepšia kombinácia na validačných dátach je využitie regresného stromu na doplnenie chýbajúceho veku a použitie Random Forestu, takže som si na predikciu vybral tú.\n",
    "V kóde nižšie je ladenie parametrov Random Forestu, presnejšie **n_estimators**, **criterion** a **max_features**, priebeh ladenia je zobrazený na grafe"
   ]
  },
  {
   "cell_type": "code",
   "execution_count": 12,
   "metadata": {},
   "outputs": [],
   "source": [
    "from sklearn.model_selection import ParameterGrid\n",
    "param_grid = {\n",
    "    'n_estimators': range(10,100), \n",
    "    'criterion': ['entropy', 'gini'],\n",
    "    'max_features': ['auto', 'sqrt', 'log2']\n",
    "}\n",
    "param_comb = ParameterGrid(param_grid)\n",
    "\n",
    "val_acc = []\n",
    "train_acc = []\n",
    "for params in param_comb:\n",
    "    rf = RandomForestClassifier(**params)\n",
    "    rf.fit(Xdata3, ydata3)\n",
    "    val_acc.append(cross_val_score(rf, Xdata3, ydata3, cv=10).mean())"
   ]
  },
  {
   "cell_type": "code",
   "execution_count": 16,
   "metadata": {},
   "outputs": [
    {
     "data": {
      "text/plain": [
       "<matplotlib.legend.Legend at 0x7f8bca72da10>"
      ]
     },
     "execution_count": 16,
     "metadata": {},
     "output_type": "execute_result"
    },
    {
     "data": {
      "image/png": "[encoded data removed]",
      "text/plain": [
       "<Figure size 1440x432 with 1 Axes>"
      ]
     },
     "metadata": {
      "needs_background": "light"
     },
     "output_type": "display_data"
    }
   ],
   "source": [
    "import matplotlib\n",
    "import matplotlib.pyplot as plt\n",
    "plt.figure(figsize=(20,6))\n",
    "plt.plot(val_acc,'ob-')\n",
    "plt.xlabel('hyperparametr index')\n",
    "plt.ylabel('accuracy')\n",
    "plt.legend(['validation'])"
   ]
  },
  {
   "cell_type": "markdown",
   "metadata": {},
   "source": [
    "# Predikcia evaluate dát\n",
    "Po vyladení hyperparametrov som si vybral najlepšie a s nimi nafitoval Random Forest.<br>\n",
    "Pred konečnou predikciou som ešte upravil **evaluate.csv** dáta, aby mali rovnakú formu ako trénovacie, spustil som Random Forest a výsledné dáta zapísal do súboru **results.csv**"
   ]
  },
  {
   "cell_type": "code",
   "execution_count": 14,
   "metadata": {},
   "outputs": [],
   "source": [
    "best_params = param_comb[np.argmax(val_acc)]\n",
    "rfc = RandomForestClassifier(**best_params)\n",
    "rfc.fit(Xdata3, ydata3)\n",
    "\n",
    "eval_data = pd.read_csv('evaluation.csv')\n",
    "eval_data = clean_up_data(eval_data)\n",
    "eval_data = dtr_age(eval_data)"
   ]
  },
  {
   "cell_type": "code",
   "execution_count": 15,
   "metadata": {},
   "outputs": [],
   "source": [
    "eval_predictions = rfc.predict(eval_data)\n",
    "\n",
    "eval_results = []\n",
    "for id, survived in zip(eval_data.index, eval_predictions):\n",
    "    eval_results.append({'ID': id, 'Survived': survived})\n",
    "pd.DataFrame(eval_results).to_csv('results.csv', index=False)"
   ]
  }
 ],
 "metadata": {
  "kernelspec": {
   "display_name": "Python 3",
   "language": "python",
   "name": "python3"
  },
  "language_info": {
   "codemirror_mode": {
    "name": "ipython",
    "version": 3
   },
   "file_extension": ".py",
   "mimetype": "text/x-python",
   "name": "python",
   "nbconvert_exporter": "python",
   "pygments_lexer": "ipython3",
   "version": "3.7.4"
  }
 },
 "nbformat": 4,
 "nbformat_minor": 4
}
